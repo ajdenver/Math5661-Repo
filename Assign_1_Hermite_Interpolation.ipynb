{
 "cells": [
  {
   "cell_type": "markdown",
   "metadata": {},
   "source": [
    "# 1. The Lesbegue constant for Hermite interpolation.\n",
    "\n",
    "Recall that the definition of the ***nodal Lagrange interpolation basis functions***,\n",
    "$$\n",
    "\\mathcal{l}_i(x) = \\prod_{i\\neq j} \\frac{x-x_j}{x_i-x_j}, \\quad x_i \\in X.\n",
    "$$.\n",
    "\n",
    "In class we derived that the ***nodal hermite basis functions*** were\n",
    "$$\n",
    "h_i(x) = \\left[1-2(x-x_i)\\mathcal{l}_i^\\prime(x_i)\\right]\\mathcal{l}_i^2(x)\n",
    "$$\n",
    "and\n",
    "$$\n",
    "\\tilde{h}_i(x) = (x-x_i)\\mathcal{l}_i^2(x)\n",
    "$$.\n",
    "\n",
    "Write a code to compute the **Lesbegue Constant** of Hermite interpolation with $n$-equispaced node points.  Plot for $n=2^j+1$ points, $j=2,3,\\ldots 5$.  Compare with the corresponding Lagrange function with the same amount of data, i.e. $2n$ equispaced points. "
   ]
  },
  {
   "cell_type": "markdown",
   "metadata": {},
   "source": [
    "# 2.  Just one more piece of data...\n",
    "\n",
    "Let us take $3$ equispaced points on [-1,1], and let $f\\in C^1[-1,1]$.\n",
    "\n",
    "We are allowed to add one more piece of data anywhere in $[-1,1]$ via\n",
    "* Lagrange interpolation(add one more point and interpolate $f$).\n",
    "* Hermite interpolation(add any derivative at an existing point).\n",
    "* Birkhoff interpolation (we may add a new derivative value at any point)\n",
    "\n",
    "Which new piece of data produces the smallest **Lesbegue constant** for $C^1$ interpolation?  You may answer this problem computationally or analytically.  "
   ]
  },
  {
   "cell_type": "markdown",
   "metadata": {},
   "source": [
    "# 3.  Generalized Hermite Interpolation\n",
    "\n",
    "Write a code to do generalized Hermite interpolation via divided differences.  Given 12 pieces of equispaced data, what gives you the best results for the interpolant of $f(x)=x^{10/3}$, $x\\in[-1,1]$.  \n",
    "Contrast with the results for $f(x)=x^{1/3}$.\n"
   ]
  }
 ],
 "metadata": {
  "kernelspec": {
   "display_name": "Python [conda root]",
   "language": "python",
   "name": "conda-root-py"
  },
  "language_info": {
   "codemirror_mode": {
    "name": "ipython",
    "version": 3
   },
   "file_extension": ".py",
   "mimetype": "text/x-python",
   "name": "python",
   "nbconvert_exporter": "python",
   "pygments_lexer": "ipython3",
   "version": "3.6.1"
  }
 },
 "nbformat": 4,
 "nbformat_minor": 2
}
