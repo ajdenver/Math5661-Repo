{
 "cells": [
  {
   "cell_type": "markdown",
   "metadata": {},
   "source": [
    "# 1.\n",
    "a) Prove that the Gram Matrix is positive definite.\n",
    "\n",
    "b) In the three term recurrence formula for orthogonal polynomials, we have that \n",
    "$$\n",
    "a_n = \\frac{<xp_{n-1},p_{n-1}>}{<p_{n-1},p_{n-1}>} \\\\\n",
    "b_n = \\frac{<xp_{n-1},p_{n-2}>}{<p_{n-2},p_{n-2}>}\n",
    "$$\n",
    "* Prove that if $<f,g> = \\int_{-a}^{a} f(x) g(x) w(x)$, $w(x)$ even, that $a_n = 0 $ for all $n$.\n",
    "* Prove that $b_n$ is positive for all $n$.\n",
    "\n",
    "\n"
   ]
  },
  {
   "cell_type": "markdown",
   "metadata": {},
   "source": [
    "# 2 (Computational)\n",
    "a) The Hilbert matrix is the Gram matrix for $(1,x,x^2,\\ldots x^n)$ with the standard inner product on (0,1).  Investigate its conditioning for increasing values of $n=4,8,16, etc.$.\n",
    "\n",
    "b) Implement the 3 term recurrence formula for orthogonal polynomials\n",
    "numerically(not symbolically) on (0,1) for $n=4,8,16, etc.$ \n",
    "* What is the condition number of the resulting Gram matrix?\n",
    "* In reality, how far away from orthogonal are the resulting polynomials?  Check with quadrature or symbolically.  The high $n$ case is the most interesting."
   ]
  },
  {
   "cell_type": "markdown",
   "metadata": {},
   "source": [
    "# 3 (Computational)\n",
    "Construct the Gram Matrix for $L^2$-projection on [-1,1] onto the space of Cubic B-Splines. Plot the condition number as a function of the mesh spacing $h$ between knots.\n"
   ]
  },
  {
   "cell_type": "code",
   "execution_count": null,
   "metadata": {
    "collapsed": true
   },
   "outputs": [],
   "source": []
  }
 ],
 "metadata": {
  "kernelspec": {
   "display_name": "Python [conda root]",
   "language": "python",
   "name": "conda-root-py"
  },
  "language_info": {
   "codemirror_mode": {
    "name": "ipython",
    "version": 3
   },
   "file_extension": ".py",
   "mimetype": "text/x-python",
   "name": "python",
   "nbconvert_exporter": "python",
   "pygments_lexer": "ipython3",
   "version": "3.6.1"
  }
 },
 "nbformat": 4,
 "nbformat_minor": 2
}
