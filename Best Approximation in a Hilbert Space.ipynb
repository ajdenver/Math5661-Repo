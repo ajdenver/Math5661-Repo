{
 "cells": [
  {
   "cell_type": "markdown",
   "metadata": {},
   "source": [
    "We prove that the best approximation $g$ from $G$, a finite dimensional subspace of $C(X)$, $X$ compact, exists, and is unique,\n",
    "when $\\| f \\|^2=<f,f>$. We also show that $f-g \\in G^\\perp$.\n",
    "\n",
    "We already have shown that there exists a $g\\in G$ that minimizes $\\| f- g\\|$, where $\\| \\cdot \\|$ is any norm on $C(X)$. \n",
    "\n",
    "Alternative Proof: (sledgehammer) *Orthogonal Decomposition*\n",
    "Let $G$ be a closed linear subspace of $H$, then \n",
    "$H=G \\oplus G^\\perp$(you have seen this in the FD setting in LA, I will not prove it here).  \n",
    "\n",
    "Let $C(X)=H$; then $f=g+h$, with $g\\in G$ and $h\\in G^\\perp$, and\n",
    "this is unique (direct sum).  Thus $f-g$ is in $G^\\perp$ \n",
    "\n",
    "1. Let $f-g$ in $G^\\perp$, and $\\tilde{g}\\in G$. Then\n",
    "$$\\| f-\\tilde{g}\\|^2 = \\| f - g \\|^2 + \\| g - \\tilde{g}\\|^2 \\geq \\| f - g \\|^2; $$ so any member of $g$ s.t. $f-g$ is in $G^\\perp$ is the  best approximation.\n",
    "\n",
    "2. Conversely, we will show that any best approximation $g$ implies that \n",
    "$f-g \\in G^\\perp$.  The $g$ be the best approximation, and let $\\lambda h \\in G$, $\\lambda > 0$. \n",
    "\n",
    "Then any perturbation $\\lambda h$ in $G$ will have greater (or equal)\n",
    "norm\n",
    "$$\n",
    "0 \\leq \\| f-g + \\lambda h \\|^2 - \\| f - g \\|^2 =\n",
    "\\lambda(2<f-g,h> + \\lambda \\| h \\|^2)\n",
    "$$\n",
    "Dividing through by $\\lambda$, and then considering small lambda, we\n",
    "have $<f-g,h>\\geq 0$.  But the same argument applies for $-h$ as well,\n",
    "giving $<f-g,-h> \\geq 0$, which implies that $<f-g,h>=0$.  As $h$ was \n",
    "an arbitrary element of $g$, $f-g \\in G^\\perp$.\n",
    "\n"
   ]
  },
  {
   "cell_type": "markdown",
   "metadata": {},
   "source": [
    "If $f-g \\in G^\\perp$, uniqueness follows directly.  Let $g_1$ and $g_2$ both be the same minimum distance from $f$.  Then \n",
    "$$\\| f - g_1 \\|^2 = \\| f - g_1 + g_2 - g_2 \\|^2  = \\| f - g_2 \\|^2 + \\| g_1 - g_2 \\|^2 \\rightarrow g_1 = g_2\n",
    "$$\n",
    "where we have used that $f-g_1$ is orthogonal to $g_1 - g_2$.\n"
   ]
  },
  {
   "cell_type": "code",
   "execution_count": null,
   "metadata": {
    "collapsed": true
   },
   "outputs": [],
   "source": []
  }
 ],
 "metadata": {
  "kernelspec": {
   "display_name": "Python [conda root]",
   "language": "python",
   "name": "conda-root-py"
  },
  "language_info": {
   "codemirror_mode": {
    "name": "ipython",
    "version": 3
   },
   "file_extension": ".py",
   "mimetype": "text/x-python",
   "name": "python",
   "nbconvert_exporter": "python",
   "pygments_lexer": "ipython3",
   "version": "3.6.1"
  }
 },
 "nbformat": 4,
 "nbformat_minor": 2
}
