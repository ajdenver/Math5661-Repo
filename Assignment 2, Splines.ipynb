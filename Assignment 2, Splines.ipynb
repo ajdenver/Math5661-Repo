{
 "cells": [
  {
   "cell_type": "markdown",
   "metadata": {},
   "source": [
    "## 1 (Computational):\n",
    "\n",
    "Let $k=3$(Cubic Splines); let the knots be the the integers.\n",
    "For $n=5,10,15,20$, investigate the condition of the matrix $A_1=f_j(x_i)$ when f_j represents the basis for $\\mathcal{S}_n^k$ \n",
    "consisting of powers $(x^j)$ and truncated powers $(x-t_0)_+^k$.\n",
    "\n",
    "Compare with the condition number using the $B$-Spline basis. \n",
    "Take $x_i$ to be equispaced points between $t_0=0$ and $t_n=n$.\n",
    "\n",
    "You may assume natural boundary conditions ($s^{\\prime\\prime}(0)=s^{\\prime\\prime}(n)=0$).\n"
   ]
  },
  {
   "cell_type": "markdown",
   "metadata": {},
   "source": [
    "## 2 \n",
    "Let $C$ and $D$ be square matrices.  Prove that \n",
    "$$\n",
    "\\begin{bmatrix} C & 0 \\\\ E & D \n",
    "\\end{bmatrix}\n",
    "$$\n",
    "is nonsingular if and only if $C$ and $D$ are non-singular.\n"
   ]
  },
  {
   "cell_type": "markdown",
   "metadata": {},
   "source": [
    "## 3 \n",
    "\n",
    "A) Is the following valid?  If the interpolation nodes $x_i$ for spline interpolation are **not** ordered, then the nonsingularity of the matrix $B^k_j(x_i)$ is equivalent to the assertion that each interval $(t_i,t_{i+k+1})$ for $1\\leq i \\leq n$ contains at least one node.\n",
    "\n",
    "B) Prove that the derivative operator is **surjective** from\n",
    "$\\mathcal{S}^k_n$ to $\\mathcal{S}^{k-1}_n$, where $n$ is a bi-infinite set of knots.\n",
    "\n"
   ]
  },
  {
   "cell_type": "markdown",
   "metadata": {},
   "source": [
    "## 4 \n",
    "\n",
    "Write a computer program to approximate \n",
    "$g(x) = \\int_a^x f(t) \\; dt$.  The function $f$ is supplied by \n",
    "the user; the procedure is to interpolate $S$ by a natural\n",
    "cubic spline on $[a,b]$, using $n$ equally spaced knots, and \n",
    "then use $g(x) = \\int_a^x S(t) \\; dt$.  \n",
    "\n",
    "The user should be able to specify $f,a,b,$ and $n$.\n"
   ]
  },
  {
   "cell_type": "code",
   "execution_count": null,
   "metadata": {
    "collapsed": true
   },
   "outputs": [],
   "source": []
  }
 ],
 "metadata": {
  "kernelspec": {
   "display_name": "Python [conda root]",
   "language": "python",
   "name": "conda-root-py"
  },
  "language_info": {
   "codemirror_mode": {
    "name": "ipython",
    "version": 3
   },
   "file_extension": ".py",
   "mimetype": "text/x-python",
   "name": "python",
   "nbconvert_exporter": "python",
   "pygments_lexer": "ipython3",
   "version": "3.6.1"
  }
 },
 "nbformat": 4,
 "nbformat_minor": 2
}
