{
 "cells": [
  {
   "cell_type": "markdown",
   "metadata": {},
   "source": [
    "The three term recurrence relation for orthogonal polynomials is\n",
    "(assuming that the inner product obeys $<f,gh>=<fg,h>$) is \n",
    "$$\n",
    "p_n(x) = (x-a_n)p_{n-1}(x) - b_n p_{n-2}(x), \\quad n\\geq 2\n",
    "$$\n",
    "with $p_0(x)=1$, $p_1(x) = x-a_1$, and\n",
    "$$\n",
    "a_n = \\frac{<xp_{n-1},p_{n-1}>}{<p_{n-1},p_{n-1}>} \\\\\n",
    "b_n = \\frac{<xp_{n-1},p_{n-2}>}{<p_{n-2},p_{n-2}>}\n",
    "$$\n",
    "In class we showed that $p_0$, $p_1$, and $p_2$ were orthogonal.  We\n",
    "complete the proof via induction.  If the recurrence relation holds for $n-1$, then we have\n",
    "$$\n",
    "<p_n,p_{n-1}>=<xp_{n-1},p_{n-1}>-a_n<p_{n-1},p_{n-1}> -b_n<p_{n-2},p_{n-1}> = 0 \\\\\n",
    "<p_n,p_{n-2}>=<xp_{n-1},p_{n-2}>-a_n<p_{n-1},p_{n-2}> -b_n<p_{n-2},p_{n-2}> = 0 \\\\\n",
    "$$\n",
    "The above assertion uses that $<p_{n-1},p_{n-2}>=0$ and substituing in for the definitions of $a_n$ and $b_n$.\n",
    "\n",
    "If $i=0,1,\\ldots,n-3$, then we have\n",
    "$$\n",
    "<p_n,p_i>=<xp_{n-1},p_i>-a_n<p_{n-1},p_i>-b_n<p_{n-2},p_i>\n",
    "$$.\n",
    "By the induction hypothesis, the last two terms are zero as $i\\leq n-3$.  The first term we rewrite as $<p_{n-1},xp_i>$.  We may use the\n",
    "recurrence formula for $p_{i+2}$ to rewrite \n",
    "$$\n",
    "<p_{n-1},xp_i>= <p_{n-1},p_{i+1} + a_{i+1}p_i + b_{i+1}p_{i+1}>=0\n",
    "$$\n",
    "by the induction hypothesis on the orthogonality of $p_{n-1}$ to polynomials of lower degree.\n"
   ]
  },
  {
   "cell_type": "code",
   "execution_count": null,
   "metadata": {
    "collapsed": true
   },
   "outputs": [],
   "source": []
  },
  {
   "cell_type": "code",
   "execution_count": null,
   "metadata": {
    "collapsed": true
   },
   "outputs": [],
   "source": []
  },
  {
   "cell_type": "code",
   "execution_count": null,
   "metadata": {
    "collapsed": true
   },
   "outputs": [],
   "source": []
  }
 ],
 "metadata": {
  "kernelspec": {
   "display_name": "Python [conda root]",
   "language": "python",
   "name": "conda-root-py"
  },
  "language_info": {
   "codemirror_mode": {
    "name": "ipython",
    "version": 3
   },
   "file_extension": ".py",
   "mimetype": "text/x-python",
   "name": "python",
   "nbconvert_exporter": "python",
   "pygments_lexer": "ipython3",
   "version": "3.6.1"
  }
 },
 "nbformat": 4,
 "nbformat_minor": 2
}
